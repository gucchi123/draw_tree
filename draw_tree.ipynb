{
 "cells": [
  {
   "cell_type": "code",
   "execution_count": 38,
   "metadata": {},
   "outputs": [
    {
     "data": {
      "text/html": [
       "4"
      ],
      "text/latex": [
       "4"
      ],
      "text/markdown": [
       "4"
      ],
      "text/plain": [
       "[1] 4"
      ]
     },
     "metadata": {},
     "output_type": "display_data"
    }
   ],
   "source": [
    "library(doParallel)\n",
    "detectCores()\n",
    "\n",
    "Cl = makeCluster(detectCores())\n",
    "registerDoParallel(Cl)\n"
   ]
  },
  {
   "cell_type": "code",
   "execution_count": 75,
   "metadata": {},
   "outputs": [
    {
     "name": "stderr",
     "output_type": "stream",
     "text": [
      "Warning message:\n",
      "\"package 'party' was built under R version 3.4.4\"Loading required package: modeltools\n",
      "Loading required package: stats4\n",
      "Loading required package: strucchange\n",
      "Warning message:\n",
      "\"package 'strucchange' was built under R version 3.4.4\"Loading required package: zoo\n",
      "\n",
      "Attaching package: 'zoo'\n",
      "\n",
      "The following objects are masked from 'package:base':\n",
      "\n",
      "    as.Date, as.Date.numeric\n",
      "\n",
      "Loading required package: sandwich\n",
      "Warning message:\n",
      "\"package 'sandwich' was built under R version 3.4.4\"\n",
      "Attaching package: 'party'\n",
      "\n",
      "The following objects are masked from 'package:partykit':\n",
      "\n",
      "    cforest, ctree, ctree_control, edge_simple, mob, mob_control,\n",
      "    node_barplot, node_bivplot, node_boxplot, node_inner, node_surv,\n",
      "    node_terminal, varimp\n",
      "\n"
     ]
    }
   ],
   "source": [
    "library(rpart)\n",
    "library(readr)\n",
    "library(randomForest)\n",
    "library(partykit)\n",
    "library(party)"
   ]
  },
  {
   "cell_type": "code",
   "execution_count": 40,
   "metadata": {
    "collapsed": true
   },
   "outputs": [],
   "source": [
    "set.seed(1234)"
   ]
  },
  {
   "cell_type": "code",
   "execution_count": 41,
   "metadata": {},
   "outputs": [
    {
     "name": "stderr",
     "output_type": "stream",
     "text": [
      "Parsed with column specification:\n",
      "cols(\n",
      "  step = col_integer(),\n",
      "  type = col_character(),\n",
      "  amount = col_double(),\n",
      "  nameOrig = col_character(),\n",
      "  oldbalanceOrg = col_double(),\n",
      "  newbalanceOrig = col_double(),\n",
      "  nameDest = col_character(),\n",
      "  oldbalanceDest = col_double(),\n",
      "  newbalanceDest = col_double(),\n",
      "  isFraud = col_integer(),\n",
      "  isFlaggedFraud = col_integer()\n",
      ")\n"
     ]
    }
   ],
   "source": [
    "df = read_csv(\"PS_20174392719_1491204439457_log.csv\")"
   ]
  },
  {
   "cell_type": "code",
   "execution_count": 42,
   "metadata": {},
   "outputs": [
    {
     "data": {
      "text/html": [
       "<table>\n",
       "<thead><tr><th scope=col>step</th><th scope=col>type</th><th scope=col>amount</th><th scope=col>nameOrig</th><th scope=col>oldbalanceOrg</th><th scope=col>newbalanceOrig</th><th scope=col>nameDest</th><th scope=col>oldbalanceDest</th><th scope=col>newbalanceDest</th><th scope=col>isFraud</th><th scope=col>isFlaggedFraud</th></tr></thead>\n",
       "<tbody>\n",
       "\t<tr><td>1          </td><td>PAYMENT    </td><td> 9839.64   </td><td>C1231006815</td><td>170136     </td><td>160296.36  </td><td>M1979787155</td><td>    0      </td><td>0          </td><td>0          </td><td>0          </td></tr>\n",
       "\t<tr><td>1          </td><td>PAYMENT    </td><td> 1864.28   </td><td>C1666544295</td><td> 21249     </td><td> 19384.72  </td><td>M2044282225</td><td>    0      </td><td>0          </td><td>0          </td><td>0          </td></tr>\n",
       "\t<tr><td>1          </td><td>TRANSFER   </td><td>  181.00   </td><td>C1305486145</td><td>   181     </td><td>     0.00  </td><td>C553264065 </td><td>    0      </td><td>0          </td><td>1          </td><td>0          </td></tr>\n",
       "\t<tr><td>1          </td><td>CASH_OUT   </td><td>  181.00   </td><td>C840083671 </td><td>   181     </td><td>     0.00  </td><td>C38997010  </td><td>21182      </td><td>0          </td><td>1          </td><td>0          </td></tr>\n",
       "\t<tr><td>1          </td><td>PAYMENT    </td><td>11668.14   </td><td>C2048537720</td><td> 41554     </td><td> 29885.86  </td><td>M1230701703</td><td>    0      </td><td>0          </td><td>0          </td><td>0          </td></tr>\n",
       "\t<tr><td>1          </td><td>PAYMENT    </td><td> 7817.71   </td><td>C90045638  </td><td> 53860     </td><td> 46042.29  </td><td>M573487274 </td><td>    0      </td><td>0          </td><td>0          </td><td>0          </td></tr>\n",
       "</tbody>\n",
       "</table>\n"
      ],
      "text/latex": [
       "\\begin{tabular}{r|lllllllllll}\n",
       " step & type & amount & nameOrig & oldbalanceOrg & newbalanceOrig & nameDest & oldbalanceDest & newbalanceDest & isFraud & isFlaggedFraud\\\\\n",
       "\\hline\n",
       "\t 1           & PAYMENT     &  9839.64    & C1231006815 & 170136      & 160296.36   & M1979787155 &     0       & 0           & 0           & 0          \\\\\n",
       "\t 1           & PAYMENT     &  1864.28    & C1666544295 &  21249      &  19384.72   & M2044282225 &     0       & 0           & 0           & 0          \\\\\n",
       "\t 1           & TRANSFER    &   181.00    & C1305486145 &    181      &      0.00   & C553264065  &     0       & 0           & 1           & 0          \\\\\n",
       "\t 1           & CASH\\_OUT  &   181.00    & C840083671  &    181      &      0.00   & C38997010   & 21182       & 0           & 1           & 0          \\\\\n",
       "\t 1           & PAYMENT     & 11668.14    & C2048537720 &  41554      &  29885.86   & M1230701703 &     0       & 0           & 0           & 0          \\\\\n",
       "\t 1           & PAYMENT     &  7817.71    & C90045638   &  53860      &  46042.29   & M573487274  &     0       & 0           & 0           & 0          \\\\\n",
       "\\end{tabular}\n"
      ],
      "text/markdown": [
       "\n",
       "step | type | amount | nameOrig | oldbalanceOrg | newbalanceOrig | nameDest | oldbalanceDest | newbalanceDest | isFraud | isFlaggedFraud | \n",
       "|---|---|---|---|---|---|\n",
       "| 1           | PAYMENT     |  9839.64    | C1231006815 | 170136      | 160296.36   | M1979787155 |     0       | 0           | 0           | 0           | \n",
       "| 1           | PAYMENT     |  1864.28    | C1666544295 |  21249      |  19384.72   | M2044282225 |     0       | 0           | 0           | 0           | \n",
       "| 1           | TRANSFER    |   181.00    | C1305486145 |    181      |      0.00   | C553264065  |     0       | 0           | 1           | 0           | \n",
       "| 1           | CASH_OUT    |   181.00    | C840083671  |    181      |      0.00   | C38997010   | 21182       | 0           | 1           | 0           | \n",
       "| 1           | PAYMENT     | 11668.14    | C2048537720 |  41554      |  29885.86   | M1230701703 |     0       | 0           | 0           | 0           | \n",
       "| 1           | PAYMENT     |  7817.71    | C90045638   |  53860      |  46042.29   | M573487274  |     0       | 0           | 0           | 0           | \n",
       "\n",
       "\n"
      ],
      "text/plain": [
       "  step type     amount   nameOrig    oldbalanceOrg newbalanceOrig nameDest   \n",
       "1 1    PAYMENT   9839.64 C1231006815 170136        160296.36      M1979787155\n",
       "2 1    PAYMENT   1864.28 C1666544295  21249         19384.72      M2044282225\n",
       "3 1    TRANSFER   181.00 C1305486145    181             0.00      C553264065 \n",
       "4 1    CASH_OUT   181.00 C840083671     181             0.00      C38997010  \n",
       "5 1    PAYMENT  11668.14 C2048537720  41554         29885.86      M1230701703\n",
       "6 1    PAYMENT   7817.71 C90045638    53860         46042.29      M573487274 \n",
       "  oldbalanceDest newbalanceDest isFraud isFlaggedFraud\n",
       "1     0          0              0       0             \n",
       "2     0          0              0       0             \n",
       "3     0          0              1       0             \n",
       "4 21182          0              1       0             \n",
       "5     0          0              0       0             \n",
       "6     0          0              0       0             "
      ]
     },
     "metadata": {},
     "output_type": "display_data"
    }
   ],
   "source": [
    "head(df)"
   ]
  },
  {
   "cell_type": "code",
   "execution_count": 43,
   "metadata": {},
   "outputs": [
    {
     "name": "stdout",
     "output_type": "stream",
     "text": [
      "Classes 'tbl_df', 'tbl' and 'data.frame':\t6362620 obs. of  11 variables:\n",
      " $ step          : int  1 1 1 1 1 1 1 1 1 1 ...\n",
      " $ type          : chr  \"PAYMENT\" \"PAYMENT\" \"TRANSFER\" \"CASH_OUT\" ...\n",
      " $ amount        : num  9840 1864 181 181 11668 ...\n",
      " $ nameOrig      : chr  \"C1231006815\" \"C1666544295\" \"C1305486145\" \"C840083671\" ...\n",
      " $ oldbalanceOrg : num  170136 21249 181 181 41554 ...\n",
      " $ newbalanceOrig: num  160296 19385 0 0 29886 ...\n",
      " $ nameDest      : chr  \"M1979787155\" \"M2044282225\" \"C553264065\" \"C38997010\" ...\n",
      " $ oldbalanceDest: num  0 0 0 21182 0 ...\n",
      " $ newbalanceDest: num  0 0 0 0 0 ...\n",
      " $ isFraud       : int  0 0 1 1 0 0 0 0 0 0 ...\n",
      " $ isFlaggedFraud: int  0 0 0 0 0 0 0 0 0 0 ...\n",
      " - attr(*, \"spec\")=List of 2\n",
      "  ..$ cols   :List of 11\n",
      "  .. ..$ step          : list()\n",
      "  .. .. ..- attr(*, \"class\")= chr  \"collector_integer\" \"collector\"\n",
      "  .. ..$ type          : list()\n",
      "  .. .. ..- attr(*, \"class\")= chr  \"collector_character\" \"collector\"\n",
      "  .. ..$ amount        : list()\n",
      "  .. .. ..- attr(*, \"class\")= chr  \"collector_double\" \"collector\"\n",
      "  .. ..$ nameOrig      : list()\n",
      "  .. .. ..- attr(*, \"class\")= chr  \"collector_character\" \"collector\"\n",
      "  .. ..$ oldbalanceOrg : list()\n",
      "  .. .. ..- attr(*, \"class\")= chr  \"collector_double\" \"collector\"\n",
      "  .. ..$ newbalanceOrig: list()\n",
      "  .. .. ..- attr(*, \"class\")= chr  \"collector_double\" \"collector\"\n",
      "  .. ..$ nameDest      : list()\n",
      "  .. .. ..- attr(*, \"class\")= chr  \"collector_character\" \"collector\"\n",
      "  .. ..$ oldbalanceDest: list()\n",
      "  .. .. ..- attr(*, \"class\")= chr  \"collector_double\" \"collector\"\n",
      "  .. ..$ newbalanceDest: list()\n",
      "  .. .. ..- attr(*, \"class\")= chr  \"collector_double\" \"collector\"\n",
      "  .. ..$ isFraud       : list()\n",
      "  .. .. ..- attr(*, \"class\")= chr  \"collector_integer\" \"collector\"\n",
      "  .. ..$ isFlaggedFraud: list()\n",
      "  .. .. ..- attr(*, \"class\")= chr  \"collector_integer\" \"collector\"\n",
      "  ..$ default: list()\n",
      "  .. ..- attr(*, \"class\")= chr  \"collector_guess\" \"collector\"\n",
      "  ..- attr(*, \"class\")= chr \"col_spec\"\n"
     ]
    }
   ],
   "source": [
    "str(df)"
   ]
  },
  {
   "cell_type": "code",
   "execution_count": 44,
   "metadata": {
    "collapsed": true
   },
   "outputs": [],
   "source": [
    "df$step = as.factor(df$step)\n",
    "df$type = as.factor(df$type)"
   ]
  },
  {
   "cell_type": "code",
   "execution_count": 45,
   "metadata": {},
   "outputs": [
    {
     "data": {
      "text/html": [
       "743"
      ],
      "text/latex": [
       "743"
      ],
      "text/markdown": [
       "743"
      ],
      "text/plain": [
       "[1] 743"
      ]
     },
     "metadata": {},
     "output_type": "display_data"
    }
   ],
   "source": [
    "length(unique(df$step))"
   ]
  },
  {
   "cell_type": "code",
   "execution_count": 46,
   "metadata": {},
   "outputs": [
    {
     "name": "stdout",
     "output_type": "stream",
     "text": [
      "Classes 'tbl_df', 'tbl' and 'data.frame':\t6362620 obs. of  11 variables:\n",
      " $ step          : Factor w/ 743 levels \"1\",\"2\",\"3\",\"4\",..: 1 1 1 1 1 1 1 1 1 1 ...\n",
      " $ type          : Factor w/ 5 levels \"CASH_IN\",\"CASH_OUT\",..: 4 4 5 2 4 4 4 4 4 3 ...\n",
      " $ amount        : num  9840 1864 181 181 11668 ...\n",
      " $ nameOrig      : chr  \"C1231006815\" \"C1666544295\" \"C1305486145\" \"C840083671\" ...\n",
      " $ oldbalanceOrg : num  170136 21249 181 181 41554 ...\n",
      " $ newbalanceOrig: num  160296 19385 0 0 29886 ...\n",
      " $ nameDest      : chr  \"M1979787155\" \"M2044282225\" \"C553264065\" \"C38997010\" ...\n",
      " $ oldbalanceDest: num  0 0 0 21182 0 ...\n",
      " $ newbalanceDest: num  0 0 0 0 0 ...\n",
      " $ isFraud       : int  0 0 1 1 0 0 0 0 0 0 ...\n",
      " $ isFlaggedFraud: int  0 0 0 0 0 0 0 0 0 0 ...\n",
      " - attr(*, \"spec\")=List of 2\n",
      "  ..$ cols   :List of 11\n",
      "  .. ..$ step          : list()\n",
      "  .. .. ..- attr(*, \"class\")= chr  \"collector_integer\" \"collector\"\n",
      "  .. ..$ type          : list()\n",
      "  .. .. ..- attr(*, \"class\")= chr  \"collector_character\" \"collector\"\n",
      "  .. ..$ amount        : list()\n",
      "  .. .. ..- attr(*, \"class\")= chr  \"collector_double\" \"collector\"\n",
      "  .. ..$ nameOrig      : list()\n",
      "  .. .. ..- attr(*, \"class\")= chr  \"collector_character\" \"collector\"\n",
      "  .. ..$ oldbalanceOrg : list()\n",
      "  .. .. ..- attr(*, \"class\")= chr  \"collector_double\" \"collector\"\n",
      "  .. ..$ newbalanceOrig: list()\n",
      "  .. .. ..- attr(*, \"class\")= chr  \"collector_double\" \"collector\"\n",
      "  .. ..$ nameDest      : list()\n",
      "  .. .. ..- attr(*, \"class\")= chr  \"collector_character\" \"collector\"\n",
      "  .. ..$ oldbalanceDest: list()\n",
      "  .. .. ..- attr(*, \"class\")= chr  \"collector_double\" \"collector\"\n",
      "  .. ..$ newbalanceDest: list()\n",
      "  .. .. ..- attr(*, \"class\")= chr  \"collector_double\" \"collector\"\n",
      "  .. ..$ isFraud       : list()\n",
      "  .. .. ..- attr(*, \"class\")= chr  \"collector_integer\" \"collector\"\n",
      "  .. ..$ isFlaggedFraud: list()\n",
      "  .. .. ..- attr(*, \"class\")= chr  \"collector_integer\" \"collector\"\n",
      "  ..$ default: list()\n",
      "  .. ..- attr(*, \"class\")= chr  \"collector_guess\" \"collector\"\n",
      "  ..- attr(*, \"class\")= chr \"col_spec\"\n"
     ]
    }
   ],
   "source": [
    "str(df)"
   ]
  },
  {
   "cell_type": "code",
   "execution_count": 47,
   "metadata": {
    "collapsed": true
   },
   "outputs": [],
   "source": [
    "ind = sample(nrow(df), nrow(df)*0.8)\n",
    "train = df[ind,]\n",
    "test = df[-ind,]"
   ]
  },
  {
   "cell_type": "code",
   "execution_count": 48,
   "metadata": {},
   "outputs": [
    {
     "data": {
      "text/html": [
       "<table>\n",
       "<thead><tr><th scope=col>step</th><th scope=col>type</th><th scope=col>amount</th><th scope=col>nameOrig</th><th scope=col>oldbalanceOrg</th><th scope=col>newbalanceOrig</th><th scope=col>nameDest</th><th scope=col>oldbalanceDest</th><th scope=col>newbalanceDest</th><th scope=col>isFraud</th><th scope=col>isFlaggedFraud</th></tr></thead>\n",
       "<tbody>\n",
       "\t<tr><td>37         </td><td>CASH_OUT   </td><td>   983.59  </td><td>C1334804256</td><td> 489917.6  </td><td> 488934.04 </td><td>C1938080088</td><td>355242.34  </td><td>175887.8   </td><td>0          </td><td>0          </td></tr>\n",
       "\t<tr><td>289        </td><td>PAYMENT    </td><td>   363.52  </td><td>C1365801376</td><td>  20386.0  </td><td>  20022.48 </td><td>M109021280 </td><td>     0.00  </td><td>     0.0   </td><td>0          </td><td>0          </td></tr>\n",
       "\t<tr><td>283        </td><td>PAYMENT    </td><td>  8233.51  </td><td>C1199502829</td><td> 245465.2  </td><td> 237231.72 </td><td>M886617520 </td><td>     0.00  </td><td>     0.0   </td><td>0          </td><td>0          </td></tr>\n",
       "\t<tr><td>297        </td><td>CASH_IN    </td><td>376319.75  </td><td>C126039227 </td><td>1731196.9  </td><td>2107516.61 </td><td>C185657352 </td><td>614420.34  </td><td>238100.6   </td><td>0          </td><td>0          </td></tr>\n",
       "\t<tr><td>379        </td><td>CASH_IN    </td><td> 65198.24  </td><td>C1547557217</td><td>   9003.0  </td><td>  74201.24 </td><td>C639937992 </td><td> 85404.94  </td><td> 20206.7   </td><td>0          </td><td>0          </td></tr>\n",
       "\t<tr><td>301        </td><td>PAYMENT    </td><td>  1478.42  </td><td>C1611951671</td><td> 104530.4  </td><td> 103051.95 </td><td>M394396781 </td><td>     0.00  </td><td>     0.0   </td><td>0          </td><td>0          </td></tr>\n",
       "</tbody>\n",
       "</table>\n"
      ],
      "text/latex": [
       "\\begin{tabular}{r|lllllllllll}\n",
       " step & type & amount & nameOrig & oldbalanceOrg & newbalanceOrig & nameDest & oldbalanceDest & newbalanceDest & isFraud & isFlaggedFraud\\\\\n",
       "\\hline\n",
       "\t 37          & CASH\\_OUT  &    983.59   & C1334804256 &  489917.6   &  488934.04  & C1938080088 & 355242.34   & 175887.8    & 0           & 0          \\\\\n",
       "\t 289         & PAYMENT     &    363.52   & C1365801376 &   20386.0   &   20022.48  & M109021280  &      0.00   &      0.0    & 0           & 0          \\\\\n",
       "\t 283         & PAYMENT     &   8233.51   & C1199502829 &  245465.2   &  237231.72  & M886617520  &      0.00   &      0.0    & 0           & 0          \\\\\n",
       "\t 297         & CASH\\_IN   & 376319.75   & C126039227  & 1731196.9   & 2107516.61  & C185657352  & 614420.34   & 238100.6    & 0           & 0          \\\\\n",
       "\t 379         & CASH\\_IN   &  65198.24   & C1547557217 &    9003.0   &   74201.24  & C639937992  &  85404.94   &  20206.7    & 0           & 0          \\\\\n",
       "\t 301         & PAYMENT     &   1478.42   & C1611951671 &  104530.4   &  103051.95  & M394396781  &      0.00   &      0.0    & 0           & 0          \\\\\n",
       "\\end{tabular}\n"
      ],
      "text/markdown": [
       "\n",
       "step | type | amount | nameOrig | oldbalanceOrg | newbalanceOrig | nameDest | oldbalanceDest | newbalanceDest | isFraud | isFlaggedFraud | \n",
       "|---|---|---|---|---|---|\n",
       "| 37          | CASH_OUT    |    983.59   | C1334804256 |  489917.6   |  488934.04  | C1938080088 | 355242.34   | 175887.8    | 0           | 0           | \n",
       "| 289         | PAYMENT     |    363.52   | C1365801376 |   20386.0   |   20022.48  | M109021280  |      0.00   |      0.0    | 0           | 0           | \n",
       "| 283         | PAYMENT     |   8233.51   | C1199502829 |  245465.2   |  237231.72  | M886617520  |      0.00   |      0.0    | 0           | 0           | \n",
       "| 297         | CASH_IN     | 376319.75   | C126039227  | 1731196.9   | 2107516.61  | C185657352  | 614420.34   | 238100.6    | 0           | 0           | \n",
       "| 379         | CASH_IN     |  65198.24   | C1547557217 |    9003.0   |   74201.24  | C639937992  |  85404.94   |  20206.7    | 0           | 0           | \n",
       "| 301         | PAYMENT     |   1478.42   | C1611951671 |  104530.4   |  103051.95  | M394396781  |      0.00   |      0.0    | 0           | 0           | \n",
       "\n",
       "\n"
      ],
      "text/plain": [
       "  step type     amount    nameOrig    oldbalanceOrg newbalanceOrig nameDest   \n",
       "1 37   CASH_OUT    983.59 C1334804256  489917.6      488934.04     C1938080088\n",
       "2 289  PAYMENT     363.52 C1365801376   20386.0       20022.48     M109021280 \n",
       "3 283  PAYMENT    8233.51 C1199502829  245465.2      237231.72     M886617520 \n",
       "4 297  CASH_IN  376319.75 C126039227  1731196.9     2107516.61     C185657352 \n",
       "5 379  CASH_IN   65198.24 C1547557217    9003.0       74201.24     C639937992 \n",
       "6 301  PAYMENT    1478.42 C1611951671  104530.4      103051.95     M394396781 \n",
       "  oldbalanceDest newbalanceDest isFraud isFlaggedFraud\n",
       "1 355242.34      175887.8       0       0             \n",
       "2      0.00           0.0       0       0             \n",
       "3      0.00           0.0       0       0             \n",
       "4 614420.34      238100.6       0       0             \n",
       "5  85404.94       20206.7       0       0             \n",
       "6      0.00           0.0       0       0             "
      ]
     },
     "metadata": {},
     "output_type": "display_data"
    }
   ],
   "source": [
    "head(train)"
   ]
  },
  {
   "cell_type": "code",
   "execution_count": 49,
   "metadata": {},
   "outputs": [
    {
     "data": {
      "text/html": [
       "5090096"
      ],
      "text/latex": [
       "5090096"
      ],
      "text/markdown": [
       "5090096"
      ],
      "text/plain": [
       "[1] 5090096"
      ]
     },
     "metadata": {},
     "output_type": "display_data"
    }
   ],
   "source": [
    "nrow(train[,c(1,3,5,6,8,9)])"
   ]
  },
  {
   "cell_type": "code",
   "execution_count": 50,
   "metadata": {},
   "outputs": [
    {
     "data": {
      "text/html": [
       "5090096"
      ],
      "text/latex": [
       "5090096"
      ],
      "text/markdown": [
       "5090096"
      ],
      "text/plain": [
       "[1] 5090096"
      ]
     },
     "metadata": {},
     "output_type": "display_data"
    }
   ],
   "source": [
    "nrow(train[,2])"
   ]
  },
  {
   "cell_type": "code",
   "execution_count": 33,
   "metadata": {},
   "outputs": [
    {
     "name": "stdout",
     "output_type": "stream",
     "text": [
      "mtry = 2  OOB error = 5.88% \n",
      "Searching left ...\n",
      "mtry = 1 \tOOB error = 6.68% \n",
      "-0.1359633 0.05 \n",
      "Searching right ...\n",
      "mtry = 4 \tOOB error = 6.16% \n",
      "-0.04782244 0.05 \n"
     ]
    },
    {
     "data": {
      "text/html": [
       "<table>\n",
       "<thead><tr><th></th><th scope=col>mtry</th><th scope=col>OOBError</th></tr></thead>\n",
       "<tbody>\n",
       "\t<tr><th scope=row>1.OOB</th><td>1         </td><td>0.06682664</td></tr>\n",
       "\t<tr><th scope=row>2.OOB</th><td>2         </td><td>0.05882816</td></tr>\n",
       "\t<tr><th scope=row>4.OOB</th><td>4         </td><td>0.06164147</td></tr>\n",
       "</tbody>\n",
       "</table>\n"
      ],
      "text/latex": [
       "\\begin{tabular}{r|ll}\n",
       "  & mtry & OOBError\\\\\n",
       "\\hline\n",
       "\t1.OOB & 1          & 0.06682664\\\\\n",
       "\t2.OOB & 2          & 0.05882816\\\\\n",
       "\t4.OOB & 4          & 0.06164147\\\\\n",
       "\\end{tabular}\n"
      ],
      "text/markdown": [
       "\n",
       "| <!--/--> | mtry | OOBError | \n",
       "|---|---|---|\n",
       "| 1.OOB | 1          | 0.06682664 | \n",
       "| 2.OOB | 2          | 0.05882816 | \n",
       "| 4.OOB | 4          | 0.06164147 | \n",
       "\n",
       "\n"
      ],
      "text/plain": [
       "      mtry OOBError  \n",
       "1.OOB 1    0.06682664\n",
       "2.OOB 2    0.05882816\n",
       "4.OOB 4    0.06164147"
      ]
     },
     "metadata": {},
     "output_type": "display_data"
    },
    {
     "data": {
      "image/png": "[encoded data removed]",
      "text/plain": [
       "plot without title"
      ]
     },
     "metadata": {},
     "output_type": "display_data"
    }
   ],
   "source": [
    "tuneRF(train[,c(3,5:6,8:9)],train$type)"
   ]
  },
  {
   "cell_type": "code",
   "execution_count": 61,
   "metadata": {},
   "outputs": [
    {
     "data": {
      "text/html": [
       "16309"
      ],
      "text/latex": [
       "16309"
      ],
      "text/markdown": [
       "16309"
      ],
      "text/plain": [
       "[1] 16309"
      ]
     },
     "metadata": {},
     "output_type": "display_data"
    }
   ],
   "source": [
    "memory.limit(size=NA)"
   ]
  },
  {
   "cell_type": "code",
   "execution_count": 87,
   "metadata": {},
   "outputs": [],
   "source": [
    "rf = randomForest(type~amount+oldbalanceOrg+newbalanceOrig+oldbalanceDest+newbalanceDest, data=train[1:250000, ],  mtry = 2, importance = T)"
   ]
  },
  {
   "cell_type": "code",
   "execution_count": 88,
   "metadata": {},
   "outputs": [
    {
     "data": {
      "text/plain": [
       "\n",
       "Call:\n",
       " randomForest(formula = type ~ amount + oldbalanceOrg + newbalanceOrig +      oldbalanceDest + newbalanceDest, data = train[1:250000, ],      mtry = 2, importance = T) \n",
       "               Type of random forest: classification\n",
       "                     Number of trees: 500\n",
       "No. of variables tried at each split: 2\n",
       "\n",
       "        OOB estimate of  error rate: 5.93%\n",
       "Confusion matrix:\n",
       "         CASH_IN CASH_OUT DEBIT PAYMENT TRANSFER  class.error\n",
       "CASH_IN    54898       57   127     434        0 0.0111319259\n",
       "CASH_OUT     153    85556   478      50     1391 0.0236454101\n",
       "DEBIT         50      816   729       0        3 0.5438047559\n",
       "PAYMENT       13        5     0   84365        1 0.0002251612\n",
       "TRANSFER      10    11156    32      40     9636 0.5383730957"
      ]
     },
     "metadata": {},
     "output_type": "display_data"
    }
   ],
   "source": [
    "rf"
   ]
  },
  {
   "cell_type": "code",
   "execution_count": 89,
   "metadata": {},
   "outputs": [
    {
     "data": {
      "image/png": "[encoded data removed]",
      "text/plain": [
       "Plot with title \"rf\""
      ]
     },
     "metadata": {},
     "output_type": "display_data"
    }
   ],
   "source": [
    "plot(rf)"
   ]
  },
  {
   "cell_type": "code",
   "execution_count": 90,
   "metadata": {},
   "outputs": [
    {
     "data": {
      "image/png": "[encoded data removed]",
      "text/plain": [
       "plot without title"
      ]
     },
     "metadata": {},
     "output_type": "display_data"
    }
   ],
   "source": [
    "varImpPlot(rf)"
   ]
  },
  {
   "cell_type": "code",
   "execution_count": 94,
   "metadata": {},
   "outputs": [
    {
     "name": "stdout",
     "output_type": "stream",
     "text": [
      "                 CASH_IN  CASH_OUT     DEBIT   PAYMENT   TRANSFER\n",
      "amount          67.65242 141.35566 191.90669  53.04562 377.811374\n",
      "oldbalanceOrg  114.62649  85.20576  70.26454  37.13659  19.366893\n",
      "newbalanceOrig 481.71954 323.23041  33.72734  39.86912  68.404359\n",
      "oldbalanceDest  90.87881  35.99778  64.69672 415.57084  -2.941133\n",
      "newbalanceDest  23.54406  62.62748  17.27616 402.81404  26.980810\n",
      "               MeanDecreaseAccuracy MeanDecreaseGini\n",
      "amount                     90.50890         35890.20\n",
      "oldbalanceOrg              66.65655         20366.53\n",
      "newbalanceOrig            171.36576         38980.51\n",
      "oldbalanceDest            265.57721         27735.84\n",
      "newbalanceDest            328.71766         45259.94\n"
     ]
    }
   ],
   "source": [
    "print(importance(rf))"
   ]
  },
  {
   "cell_type": "code",
   "execution_count": null,
   "metadata": {
    "collapsed": true
   },
   "outputs": [],
   "source": []
  },
  {
   "cell_type": "code",
   "execution_count": 72,
   "metadata": {},
   "outputs": [
    {
     "data": {
      "text/plain": [
       "n= 5090096 \n",
       "\n",
       "node), split, n, loss, yval, (yprob)\n",
       "      * denotes terminal node\n",
       "\n",
       " 1) root 5090096 3299698 CASH_OUT (0.22 0.35 0.0065 0.34 0.084)  \n",
       "   2) newbalanceDest>=0.005 3138922 1357649 CASH_OUT (0.29 0.57 0.01 0 0.13)  \n",
       "     4) newbalanceOrig>=68750.54 989127  123176 CASH_IN (0.88 0.11 0.0079 0 0.0099) *\n",
       "     5) newbalanceOrig< 68750.54 2149795  474080 CASH_OUT (0.017 0.78 0.012 0 0.19)  \n",
       "      10) amount< 543709.6 1929716  280488 CASH_OUT (0.019 0.85 0.013 0 0.11) *\n",
       "      11) amount>=543709.6 220079   26488 TRANSFER (0 0.12 4.5e-06 0 0.88) *\n",
       "   3) newbalanceDest< 0.005 1951174  230194 PAYMENT (0.11 0.0047 0.0002 0.88 0.0021)  \n",
       "     6) amount>=66955.29 199233   18724 CASH_IN (0.91 0.028 5e-06 0.049 0.017) *\n",
       "     7) amount< 66955.29 1751941   40707 PAYMENT (0.021 0.002 0.00022 0.98 0.00042) *"
      ]
     },
     "metadata": {},
     "output_type": "display_data"
    }
   ],
   "source": [
    "d_tree = rpart(type~amount+oldbalanceOrg+newbalanceOrig+oldbalanceDest+newbalanceDest, data=train)\n",
    "d_tree"
   ]
  },
  {
   "cell_type": "code",
   "execution_count": 73,
   "metadata": {},
   "outputs": [
    {
     "data": {
      "image/png": "[encoded data removed]",
      "text/plain": [
       "plot without title"
      ]
     },
     "metadata": {},
     "output_type": "display_data"
    }
   ],
   "source": [
    "plot(as.party(d_tree))"
   ]
  },
  {
   "cell_type": "code",
   "execution_count": 99,
   "metadata": {},
   "outputs": [
    {
     "data": {
      "image/png": "[encoded data removed]",
      "text/plain": [
       "plot without title"
      ]
     },
     "metadata": {},
     "output_type": "display_data"
    }
   ],
   "source": [
    "plotcp(d_tree)"
   ]
  },
  {
   "cell_type": "code",
   "execution_count": 100,
   "metadata": {},
   "outputs": [
    {
     "data": {
      "image/png": "[encoded data removed]",
      "text/plain": [
       "plot without title"
      ]
     },
     "metadata": {},
     "output_type": "display_data"
    }
   ],
   "source": [
    "d_tree1 = prune(d_tree, cp=0.023)\n",
    "plot(as.party(d_tree1))\n",
    "#上記はベストなものであった"
   ]
  },
  {
   "cell_type": "code",
   "execution_count": 104,
   "metadata": {},
   "outputs": [
    {
     "data": {
      "image/png": "[encoded data removed]",
      "text/plain": [
       "plot without title"
      ]
     },
     "metadata": {},
     "output_type": "display_data"
    }
   ],
   "source": [
    "#重要変数の表示\n",
    "barplot(d_tree1$variable.importance, horiz=T)"
   ]
  },
  {
   "cell_type": "markdown",
   "metadata": {},
   "source": [
    "## 別の手法で試す"
   ]
  },
  {
   "cell_type": "code",
   "execution_count": 80,
   "metadata": {},
   "outputs": [],
   "source": [
    "d_tree2 = ctree(type~amount+oldbalanceOrg+newbalanceOrig+oldbalanceDest+newbalanceDest, data=train, controls = ctree_control(maxdepth = 3))"
   ]
  },
  {
   "cell_type": "code",
   "execution_count": 82,
   "metadata": {},
   "outputs": [
    {
     "data": {
      "text/plain": [
       "\n",
       "\t Conditional inference tree with 8 terminal nodes\n",
       "\n",
       "Response:  type \n",
       "Inputs:  amount, oldbalanceOrg, newbalanceOrig, oldbalanceDest, newbalanceDest \n",
       "Number of observations:  5090096 \n",
       "\n",
       "1) newbalanceOrig <= 113770.9; criterion = 1, statistic = 1416646.294\n",
       "  2) newbalanceOrig <= 31582.38; criterion = 1, statistic = 948362.318\n",
       "    3) amount <= 39124.84; criterion = 1, statistic = 487536.375\n",
       "      4)*  weights = 1385633 \n",
       "    3) amount > 39124.84\n",
       "      5)*  weights = 1914942 \n",
       "  2) newbalanceOrig > 31582.38\n",
       "    6) oldbalanceOrg <= 33173; criterion = 1, statistic = 190253.374\n",
       "      7)*  weights = 74741 \n",
       "    6) oldbalanceOrg > 33173\n",
       "      8)*  weights = 345997 \n",
       "1) newbalanceOrig > 113770.9\n",
       "  9) amount <= 28934.85; criterion = 1, statistic = 257734.891\n",
       "    10) newbalanceOrig <= 1013142; criterion = 1, statistic = 133209.379\n",
       "      11)*  weights = 277950 \n",
       "    10) newbalanceOrig > 1013142\n",
       "      12)*  weights = 65930 \n",
       "  9) amount > 28934.85\n",
       "    13) newbalanceOrig <= 863981.7; criterion = 1, statistic = 42562.78\n",
       "      14)*  weights = 474302 \n",
       "    13) newbalanceOrig > 863981.7\n",
       "      15)*  weights = 550601 "
      ]
     },
     "metadata": {},
     "output_type": "display_data"
    }
   ],
   "source": [
    "d_tree2"
   ]
  },
  {
   "cell_type": "code",
   "execution_count": 81,
   "metadata": {},
   "outputs": [
    {
     "data": {
      "image/png": "[encoded data removed]",
      "text/plain": [
       "plot without title"
      ]
     },
     "metadata": {},
     "output_type": "display_data"
    }
   ],
   "source": [
    "plot(d_tree2)"
   ]
  },
  {
   "cell_type": "code",
   "execution_count": null,
   "metadata": {},
   "outputs": [],
   "source": []
  },
  {
   "cell_type": "code",
   "execution_count": null,
   "metadata": {},
   "outputs": [],
   "source": []
  },
  {
   "cell_type": "code",
   "execution_count": null,
   "metadata": {
    "collapsed": true
   },
   "outputs": [],
   "source": []
  }
 ],
 "metadata": {
  "kernelspec": {
   "display_name": "R",
   "language": "R",
   "name": "ir"
  },
  "language_info": {
   "codemirror_mode": "r",
   "file_extension": ".r",
   "mimetype": "text/x-r-source",
   "name": "R",
   "pygments_lexer": "r",
   "version": "3.4.2"
  }
 },
 "nbformat": 4,
 "nbformat_minor": 2
}
